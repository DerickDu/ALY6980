{
 "cells": [
  {
   "cell_type": "code",
   "execution_count": 9,
   "metadata": {
    "pycharm": {
     "is_executing": true,
     "name": "#%%\n"
    }
   },
   "outputs": [],
   "source": [
    "# '''\n",
    "#  * @File: EDA.ipynb\n",
    "#  * @Author: Derick.Zhengkun Du\n",
    "#  * @Date: 4/19/23 5:00 PM\n",
    "#  * @Last Modified by:   Derick.Zhengkun Du\n",
    "#  * @Last Modified time: 4/19/23 5:00 PM\n",
    "# '''\n"
   ]
  },
  {
   "cell_type": "code",
   "execution_count": 17,
   "metadata": {
    "pycharm": {
     "name": "#%%\n"
    }
   },
   "outputs": [
    {
     "name": "stdout",
     "output_type": "stream",
     "text": [
      "zsh:1: command not found: pip\n",
      "zsh:1: command not found: pip\n"
     ]
    }
   ],
   "source": [
    "!pip install bamboolib\n",
    "!pip install ipywidgets"
   ]
  },
  {
   "cell_type": "code",
   "execution_count": 1,
   "metadata": {
    "pycharm": {
     "name": "#%%\n"
    }
   },
   "outputs": [],
   "source": [
    "import numpy as np\n",
    "import bamboolib as bam\n",
    "import pandas as pd"
   ]
  },
  {
   "cell_type": "code",
   "execution_count": 2,
   "metadata": {
    "pycharm": {
     "name": "#%%\n"
    }
   },
   "outputs": [],
   "source": [
    "df = pd.read_excel('BS_AllCompanies_Overview_March2023update.xlsx', \n",
    "                   sheet_name=['DIRECTOR_COREMETRICS','COMPANY_COREMETRICS','DIRECTOR_COMPANY_COREMETRICS'])"
   ]
  },
  {
   "cell_type": "code",
   "execution_count": 12,
   "metadata": {
    "pycharm": {
     "name": "#%%\n"
    }
   },
   "outputs": [],
   "source": [
    "df_drct = df.get('DIRECTOR_COREMETRICS')\n",
    "df_com = df.get('COMPANY_COREMETRICS')\n",
    "df_dc = df.get('DIRECTOR_COMPANY_COREMETRICS')"
   ]
  },
  {
   "cell_type": "code",
   "execution_count": 13,
   "metadata": {
    "pycharm": {
     "name": "#%%\n"
    }
   },
   "outputs": [
    {
     "data": {
      "application/vnd.jupyter.widget-view+json": {
       "model_id": "de71d1c54b8e4f1d86e8bd8fec6ed044"
      },
      "text/plain": [
       "   DIRECTOR: ID    DIRECTOR: NAME  DIRECTOR: AGE DIRECTOR: GENDER  \\\n",
       "0         27891      Ronald Sugar           74.0             Male   \n",
       "1         30747     Robert Eckert           67.0             Male   \n",
       "2         71970      Kin-Ning Fok           71.0             Male   \n",
       "3        190475   Hendrik du Toit           61.0             Male   \n",
       "4        619874  Sharmistha Dubey           52.0           Female   \n",
       "\n",
       "   DIRECTOR: DIVERSITY  DIRECTOR: ACTIVE BOARDS  DIRECTOR: BOARD HISTORY  \\\n",
       "0                  NaN                        4                        5   \n",
       "1                  NaN                        4                        4   \n",
       "2                  NaN                        8                        8   \n",
       "3                  NaN                        4                        6   \n",
       "4                  NaN                        4                        4   \n",
       "\n",
       "  RESUME: SMARTS RESUME: EXPERIENCE  RESUME: AVERAGE BOARD CONNECTS  ...  \\\n",
       "0            Yes                Yes                            11.0  ...   \n",
       "1            Yes                Yes                             6.0  ...   \n",
       "2             No                Yes                            29.0  ...   \n",
       "3            Yes                Yes                            25.0  ...   \n",
       "4            Yes                Yes                            28.0  ...   \n",
       "\n",
       "   INFLUENCE: HIGHEST INFLUENCE AT… INFLUENCE: HIGHEST INFLUENCE  \\\n",
       "0               CHEVRON CORPORATION                         21.3   \n",
       "1                LEVI STRAUSS & CO.                         16.0   \n",
       "2     HUTCHISON PORT HOLDINGS TRUST                         36.1   \n",
       "3                    Ninety One PLC                         69.2   \n",
       "4                 MATCH GROUP, INC.                         25.2   \n",
       "\n",
       "   INFLUENCE: HIGHEST INFLUENCE YEAR INFLUENCE: 5YR MEDIAN  \\\n",
       "0                               2020                   9.0   \n",
       "1                               2023                  11.0   \n",
       "2                               2021                   8.0   \n",
       "3                               2020                   6.0   \n",
       "4                               2022                   8.0   \n",
       "\n",
       "   PERFORMANCE: CATEGORY  PERFORMANCE: WIN RATE  PERFORMANCE: EBITDA WIN RATE  \\\n",
       "0               ROTATION                  0.449                         0.548   \n",
       "1               ROTATION                  0.469                         0.777   \n",
       "2                STARTER                   0.58                         0.871   \n",
       "3          HALL OF FAMER                  0.733                         0.339   \n",
       "4               ROTATION                  0.459                         0.577   \n",
       "\n",
       "  PERFORMANCE: TSR WIN RATE PERFORMANCE: CARBON INTENSITY WIN RATE  \\\n",
       "0                     0.447                                  0.716   \n",
       "1                     0.383                                  0.574   \n",
       "2                     0.558                                  0.111   \n",
       "3                     0.555                                  0.616   \n",
       "4                     0.214                                  0.669   \n",
       "\n",
       "  PERFORMANCE: CONTROVERSY WIN RATE  \n",
       "0                             0.081  \n",
       "1                             0.132  \n",
       "2                             0.646  \n",
       "3                                 1  \n",
       "4                             0.441  \n",
       "\n",
       "[5 rows x 23 columns]"
      ]
     },
     "metadata": {},
     "output_type": "display_data"
    }
   ],
   "source": [
    "df_drct.head(5)"
   ]
  },
  {
   "cell_type": "code",
   "execution_count": 14,
   "metadata": {
    "jupyter": {
     "outputs_hidden": false
    },
    "pycharm": {
     "name": "#%%\n"
    }
   },
   "outputs": [
    {
     "name": "stdout",
     "output_type": "stream",
     "text": [
      "Success: the bamboolib extension was enabled successfully. You can disable it via 'bam.disable()'. You will now see a magic bamboolib button when you display your dataframes, for example via 'df'\n"
     ]
    }
   ],
   "source": [
    "bam.enable()"
   ]
  },
  {
   "cell_type": "code",
   "execution_count": 15,
   "metadata": {
    "jupyter": {
     "outputs_hidden": false
    },
    "pycharm": {
     "name": "#%%\n"
    }
   },
   "outputs": [
    {
     "data": {
      "application/vnd.jupyter.widget-view+json": {
       "model_id": "7b71e58228504ce2bf8bdafc0e00ea31"
      },
      "text/plain": [
       "                      COMPANY: NAME COMPANY: TICKER  COMPANY: CUSIP  \\\n",
       "0                        AMGEN INC.            AMGN             NaN   \n",
       "1           UBER TECHNOLOGIES, INC.            UBER             NaN   \n",
       "2                LEVI STRAUSS & CO.            LEVI             NaN   \n",
       "3                    PT Indosat Tbk            ISAT             NaN   \n",
       "4     HUTCHISON PORT HOLDINGS TRUST           HUPHY             NaN   \n",
       "...                             ...             ...             ...   \n",
       "9553          PARKLAND CORPORATION.             PKI             NaN   \n",
       "9554                      RXO, INC.             RXO             NaN   \n",
       "9555        WESDOME GOLD MINES LTD.             WDO             NaN   \n",
       "9556                     TECSYS INC             TCS             NaN   \n",
       "9557                  FRONTLINE PLC             FRO             NaN   \n",
       "\n",
       "     COMPANY: DOMICILE         COMPANY: SECTOR  COMPANY: LEAGUE  \\\n",
       "0                   US             Health Care                3   \n",
       "1                   US             Industrials                3   \n",
       "2                   US  Consumer Discretionary                2   \n",
       "3                   ID  Communication Services                2   \n",
       "4                   SG             Industrials                1   \n",
       "...                ...                     ...              ...   \n",
       "9553                CA                  Energy                2   \n",
       "9554                US             Industrials                2   \n",
       "9555                CA               Materials                1   \n",
       "9556                CA  Information Technology                1   \n",
       "9557                CY                  Energy                2   \n",
       "\n",
       "      COMPANY: ACTIVE DIRECTORS  COMPANY: ALL DIRECTORS  WHO: AVERAGE AGE  \\\n",
       "0                            13                      18              65.0   \n",
       "1                            11                      16              59.0   \n",
       "2                            12                      13              60.0   \n",
       "3                            15                      24              56.0   \n",
       "4                             9                      11              70.0   \n",
       "...                         ...                     ...               ...   \n",
       "9553                         10                      11              64.0   \n",
       "9554                          9                       9              57.0   \n",
       "9555                          7                       7              56.0   \n",
       "9556                          7                      10               NaN   \n",
       "9557                          7                       8              62.0   \n",
       "\n",
       "      WHO: % WOMEN  ...  PERFORMANCE: % ALL STARS  PERFORMANCE: % STARTERS  \\\n",
       "0             23.0  ...                         7                       13   \n",
       "1             36.0  ...                         0                        0   \n",
       "2             38.0  ...                         0                        0   \n",
       "3              0.0  ...                         0                       49   \n",
       "4             33.0  ...                         0                       57   \n",
       "...            ...  ...                       ...                      ...   \n",
       "9553          30.0  ...                         9                        4   \n",
       "9554          44.0  ...                         0                        0   \n",
       "9555          29.0  ...                         0                        0   \n",
       "9556          29.0  ...                         0                        0   \n",
       "9557           0.0  ...                         0                        0   \n",
       "\n",
       "      PERFORMANCE: % ROTATION  PERFORMANCE: % BENCH  PERFORMANCE: % ROOKIES  \\\n",
       "0                          77                     0                       2   \n",
       "1                          38                    62                       0   \n",
       "2                          57                    43                       0   \n",
       "3                           6                     1                      44   \n",
       "4                          42                     0                       1   \n",
       "...                       ...                   ...                     ...   \n",
       "9553                        0                     0                      88   \n",
       "9554                        0                    13                      87   \n",
       "9555                        0                     0                     100   \n",
       "9556                        0                     0                     100   \n",
       "9557                        0                     0                      18   \n",
       "\n",
       "      PERFORMANCE: INFLUENCE WEIGHTED WIN RATE  \\\n",
       "0                                        0.488   \n",
       "1                                        0.303   \n",
       "2                                        0.431   \n",
       "3                                        0.339   \n",
       "4                                        0.552   \n",
       "...                                        ...   \n",
       "9553                                     0.082   \n",
       "9554                                     0.069   \n",
       "9555                                     0.197   \n",
       "9556                                     0.000   \n",
       "9557                                     0.696   \n",
       "\n",
       "     PERFORMANCE: INFLUENCE WEIGHTED EBITDA WIN RATE  \\\n",
       "0                                              0.694   \n",
       "1                                              0.295   \n",
       "2                                              0.517   \n",
       "3                                              0.395   \n",
       "4                                              0.749   \n",
       "...                                              ...   \n",
       "9553                                           0.080   \n",
       "9554                                           0.055   \n",
       "9555                                           0.000   \n",
       "9556                                           0.000   \n",
       "9557                                           0.757   \n",
       "\n",
       "      PERFORMANCE: INFLUENCE WEIGHTED TSR WIN RATE  \\\n",
       "0                                            0.410   \n",
       "1                                            0.297   \n",
       "2                                            0.402   \n",
       "3                                            0.070   \n",
       "4                                            0.529   \n",
       "...                                            ...   \n",
       "9553                                         0.047   \n",
       "9554                                         0.075   \n",
       "9555                                         0.197   \n",
       "9556                                         0.000   \n",
       "9557                                         0.508   \n",
       "\n",
       "      PERFORMANCE: INFLUENCE WEIGHTED CARBON WIN RATE  \\\n",
       "0                                               0.617   \n",
       "1                                               0.660   \n",
       "2                                               0.644   \n",
       "3                                               0.098   \n",
       "4                                               0.141   \n",
       "...                                               ...   \n",
       "9553                                            0.072   \n",
       "9554                                            0.027   \n",
       "9555                                            0.000   \n",
       "9556                                            0.000   \n",
       "9557                                            0.000   \n",
       "\n",
       "      PERFORMANCE: INFLUENCE WEIGHTED CONTROVERSY WIN RATE  \n",
       "0                                                 0.227     \n",
       "1                                                 0.116     \n",
       "2                                                 0.198     \n",
       "3                                                 0.511     \n",
       "4                                                 0.670     \n",
       "...                                                 ...     \n",
       "9553                                              0.123     \n",
       "9554                                              0.050     \n",
       "9555                                              0.000     \n",
       "9556                                              0.000     \n",
       "9557                                              0.819     \n",
       "\n",
       "[9558 rows x 41 columns]"
      ]
     },
     "metadata": {},
     "output_type": "display_data"
    }
   ],
   "source": [
    "df_com"
   ]
  },
  {
   "cell_type": "code",
   "execution_count": null,
   "metadata": {
    "jupyter": {
     "outputs_hidden": false
    },
    "pycharm": {
     "name": "#%%\n"
    }
   },
   "outputs": [],
   "source": [
    "\n",
    "df = pd.read_csv(bam.titanic_csv)\n",
    "df"
   ]
  },
  {
   "cell_type": "code",
   "execution_count": null,
   "metadata": {
    "pycharm": {
     "name": "#%%\n"
    }
   },
   "outputs": [],
   "source": [
    "\n",
    "df = pd.read_csv(bam.titanic_csv)\n",
    "df"
   ]
  },
  {
   "cell_type": "code",
   "execution_count": 8,
   "metadata": {
    "pycharm": {
     "name": "#%%\n"
    }
   },
   "outputs": [
    {
     "name": "stdout",
     "output_type": "stream",
     "text": [
      "zsh:1: command not found: pip\r\n"
     ]
    }
   ],
   "source": [
    "!pip install --upgrade bamboolib --user"
   ]
  },
  {
   "cell_type": "code",
   "execution_count": 16,
   "metadata": {},
   "outputs": [
    {
     "data": {
      "application/vnd.jupyter.widget-view+json": {
       "model_id": "867cac97d1bb4fdebe4f0e19244948db"
      },
      "text/plain": [
       "     PassengerId  Survived  Pclass  \\\n",
       "0              1         0       3   \n",
       "1              2         1       1   \n",
       "2              3         1       3   \n",
       "3              4         1       1   \n",
       "4              5         0       3   \n",
       "..           ...       ...     ...   \n",
       "886          887         0       2   \n",
       "887          888         1       1   \n",
       "888          889         0       3   \n",
       "889          890         1       1   \n",
       "890          891         0       3   \n",
       "\n",
       "                                                  Name     Sex   Age  SibSp  \\\n",
       "0                              Braund, Mr. Owen Harris    male  22.0      1   \n",
       "1    Cumings, Mrs. John Bradley (Florence Briggs Th...  female  38.0      1   \n",
       "2                               Heikkinen, Miss. Laina  female  26.0      0   \n",
       "3         Futrelle, Mrs. Jacques Heath (Lily May Peel)  female  35.0      1   \n",
       "4                             Allen, Mr. William Henry    male  35.0      0   \n",
       "..                                                 ...     ...   ...    ...   \n",
       "886                              Montvila, Rev. Juozas    male  27.0      0   \n",
       "887                       Graham, Miss. Margaret Edith  female  19.0      0   \n",
       "888           Johnston, Miss. Catherine Helen \"Carrie\"  female   NaN      1   \n",
       "889                              Behr, Mr. Karl Howell    male  26.0      0   \n",
       "890                                Dooley, Mr. Patrick    male  32.0      0   \n",
       "\n",
       "     Parch            Ticket     Fare Cabin Embarked  \n",
       "0        0         A/5 21171   7.2500   NaN        S  \n",
       "1        0          PC 17599  71.2833   C85        C  \n",
       "2        0  STON/O2. 3101282   7.9250   NaN        S  \n",
       "3        0            113803  53.1000  C123        S  \n",
       "4        0            373450   8.0500   NaN        S  \n",
       "..     ...               ...      ...   ...      ...  \n",
       "886      0            211536  13.0000   NaN        S  \n",
       "887      0            112053  30.0000   B42        S  \n",
       "888      2        W./C. 6607  23.4500   NaN        S  \n",
       "889      0            111369  30.0000  C148        C  \n",
       "890      0            370376   7.7500   NaN        Q  \n",
       "\n",
       "[891 rows x 12 columns]"
      ]
     },
     "metadata": {},
     "output_type": "display_data"
    }
   ],
   "source": [
    "\n",
    "df = pd.read_csv(bam.titanic_csv)\n",
    "df"
   ]
  },
  {
   "cell_type": "code",
   "execution_count": 9,
   "metadata": {},
   "outputs": [
    {
     "name": "stdout",
     "output_type": "stream",
     "text": [
      "Requirement already satisfied: bamboolib in /Users/derick/opt/anaconda3/lib/python3.9/site-packages (1.30.19)\n",
      "Requirement already satisfied: cryptography>=2.6.1 in /Users/derick/opt/anaconda3/lib/python3.9/site-packages (from bamboolib) (3.4.8)\n",
      "Requirement already satisfied: statsmodels<1.0.0 in /Users/derick/opt/anaconda3/lib/python3.9/site-packages (from bamboolib) (0.13.2)\n",
      "Requirement already satisfied: psutil<6,>=5.4.2 in /Users/derick/opt/anaconda3/lib/python3.9/site-packages (from bamboolib) (5.8.0)\n",
      "Requirement already satisfied: toml>=0.10.0 in /Users/derick/opt/anaconda3/lib/python3.9/site-packages (from bamboolib) (0.10.2)\n",
      "Requirement already satisfied: scikit-learn<2.0.0,>=0.20.2 in /Users/derick/opt/anaconda3/lib/python3.9/site-packages (from bamboolib) (1.0.2)\n",
      "Requirement already satisfied: ppscore<2.0.0,>=1.2.0 in /Users/derick/opt/anaconda3/lib/python3.9/site-packages (from bamboolib) (1.3.0)\n",
      "Requirement already satisfied: jedi<1.0.0 in /Users/derick/opt/anaconda3/lib/python3.9/site-packages (from bamboolib) (0.18.1)\n",
      "Requirement already satisfied: plotly<6.0.0,>=4.9.0 in /Users/derick/opt/anaconda3/lib/python3.9/site-packages (from bamboolib) (5.6.0)\n",
      "Requirement already satisfied: ipywidgets<8.0.0,>=7.6.0 in /Users/derick/opt/anaconda3/lib/python3.9/site-packages (from bamboolib) (7.6.5)\n",
      "Requirement already satisfied: pandas<2.0.0,>=1.1.0 in /Users/derick/opt/anaconda3/lib/python3.9/site-packages (from bamboolib) (1.4.2)\n",
      "Requirement already satisfied: packaging>=19.2 in /Users/derick/opt/anaconda3/lib/python3.9/site-packages (from bamboolib) (21.3)\n",
      "Requirement already satisfied: ipyslickgrid==0.0.3 in /Users/derick/opt/anaconda3/lib/python3.9/site-packages (from bamboolib) (0.0.3)\n",
      "Requirement already satisfied: pygments in /Users/derick/opt/anaconda3/lib/python3.9/site-packages (from bamboolib) (2.11.2)\n",
      "Requirement already satisfied: xlrd>=1.0.0 in /Users/derick/opt/anaconda3/lib/python3.9/site-packages (from bamboolib) (2.0.1)\n",
      "Requirement already satisfied: attrs>=20.3.0 in /Users/derick/opt/anaconda3/lib/python3.9/site-packages (from bamboolib) (21.4.0)\n",
      "Requirement already satisfied: notebook>=4.0.0 in /Users/derick/opt/anaconda3/lib/python3.9/site-packages (from ipyslickgrid==0.0.3->bamboolib) (6.4.8)\n",
      "Requirement already satisfied: cffi>=1.12 in /Users/derick/opt/anaconda3/lib/python3.9/site-packages (from cryptography>=2.6.1->bamboolib) (1.15.0)\n",
      "Requirement already satisfied: pycparser in /Users/derick/opt/anaconda3/lib/python3.9/site-packages (from cffi>=1.12->cryptography>=2.6.1->bamboolib) (2.21)\n",
      "Requirement already satisfied: ipykernel>=4.5.1 in /Users/derick/opt/anaconda3/lib/python3.9/site-packages (from ipywidgets<8.0.0,>=7.6.0->bamboolib) (6.9.1)\n",
      "Requirement already satisfied: widgetsnbextension~=3.5.0 in /Users/derick/opt/anaconda3/lib/python3.9/site-packages (from ipywidgets<8.0.0,>=7.6.0->bamboolib) (3.5.2)\n",
      "Requirement already satisfied: nbformat>=4.2.0 in /Users/derick/opt/anaconda3/lib/python3.9/site-packages (from ipywidgets<8.0.0,>=7.6.0->bamboolib) (5.3.0)\n",
      "Requirement already satisfied: ipython-genutils~=0.2.0 in /Users/derick/opt/anaconda3/lib/python3.9/site-packages (from ipywidgets<8.0.0,>=7.6.0->bamboolib) (0.2.0)\n",
      "Requirement already satisfied: traitlets>=4.3.1 in /Users/derick/opt/anaconda3/lib/python3.9/site-packages (from ipywidgets<8.0.0,>=7.6.0->bamboolib) (5.1.1)\n",
      "Requirement already satisfied: jupyterlab-widgets>=1.0.0 in /Users/derick/opt/anaconda3/lib/python3.9/site-packages (from ipywidgets<8.0.0,>=7.6.0->bamboolib) (1.0.0)\n",
      "Requirement already satisfied: ipython>=4.0.0 in /Users/derick/opt/anaconda3/lib/python3.9/site-packages (from ipywidgets<8.0.0,>=7.6.0->bamboolib) (8.2.0)\n",
      "Requirement already satisfied: debugpy<2.0,>=1.0.0 in /Users/derick/opt/anaconda3/lib/python3.9/site-packages (from ipykernel>=4.5.1->ipywidgets<8.0.0,>=7.6.0->bamboolib) (1.5.1)\n",
      "Requirement already satisfied: nest-asyncio in /Users/derick/opt/anaconda3/lib/python3.9/site-packages (from ipykernel>=4.5.1->ipywidgets<8.0.0,>=7.6.0->bamboolib) (1.5.5)\n",
      "Requirement already satisfied: tornado<7.0,>=4.2 in /Users/derick/opt/anaconda3/lib/python3.9/site-packages (from ipykernel>=4.5.1->ipywidgets<8.0.0,>=7.6.0->bamboolib) (6.1)\n",
      "Requirement already satisfied: jupyter-client<8.0 in /Users/derick/opt/anaconda3/lib/python3.9/site-packages (from ipykernel>=4.5.1->ipywidgets<8.0.0,>=7.6.0->bamboolib) (6.1.12)\n",
      "Requirement already satisfied: appnope in /Users/derick/opt/anaconda3/lib/python3.9/site-packages (from ipykernel>=4.5.1->ipywidgets<8.0.0,>=7.6.0->bamboolib) (0.1.2)\n",
      "Requirement already satisfied: matplotlib-inline<0.2.0,>=0.1.0 in /Users/derick/opt/anaconda3/lib/python3.9/site-packages (from ipykernel>=4.5.1->ipywidgets<8.0.0,>=7.6.0->bamboolib) (0.1.2)\n",
      "Requirement already satisfied: decorator in /Users/derick/opt/anaconda3/lib/python3.9/site-packages (from ipython>=4.0.0->ipywidgets<8.0.0,>=7.6.0->bamboolib) (5.1.1)\n",
      "Requirement already satisfied: setuptools>=18.5 in /Users/derick/opt/anaconda3/lib/python3.9/site-packages (from ipython>=4.0.0->ipywidgets<8.0.0,>=7.6.0->bamboolib) (61.2.0)\n",
      "Requirement already satisfied: pexpect>4.3 in /Users/derick/opt/anaconda3/lib/python3.9/site-packages (from ipython>=4.0.0->ipywidgets<8.0.0,>=7.6.0->bamboolib) (4.8.0)\n",
      "Requirement already satisfied: stack-data in /Users/derick/opt/anaconda3/lib/python3.9/site-packages (from ipython>=4.0.0->ipywidgets<8.0.0,>=7.6.0->bamboolib) (0.2.0)\n",
      "Requirement already satisfied: prompt-toolkit!=3.0.0,!=3.0.1,<3.1.0,>=2.0.0 in /Users/derick/opt/anaconda3/lib/python3.9/site-packages (from ipython>=4.0.0->ipywidgets<8.0.0,>=7.6.0->bamboolib) (3.0.20)\n",
      "Requirement already satisfied: backcall in /Users/derick/opt/anaconda3/lib/python3.9/site-packages (from ipython>=4.0.0->ipywidgets<8.0.0,>=7.6.0->bamboolib) (0.2.0)\n",
      "Requirement already satisfied: pickleshare in /Users/derick/opt/anaconda3/lib/python3.9/site-packages (from ipython>=4.0.0->ipywidgets<8.0.0,>=7.6.0->bamboolib) (0.7.5)\n",
      "Requirement already satisfied: parso<0.9.0,>=0.8.0 in /Users/derick/opt/anaconda3/lib/python3.9/site-packages (from jedi<1.0.0->bamboolib) (0.8.3)\n",
      "Requirement already satisfied: jupyter-core>=4.6.0 in /Users/derick/opt/anaconda3/lib/python3.9/site-packages (from jupyter-client<8.0->ipykernel>=4.5.1->ipywidgets<8.0.0,>=7.6.0->bamboolib) (4.9.2)\n",
      "Requirement already satisfied: pyzmq>=13 in /Users/derick/opt/anaconda3/lib/python3.9/site-packages (from jupyter-client<8.0->ipykernel>=4.5.1->ipywidgets<8.0.0,>=7.6.0->bamboolib) (22.3.0)\n",
      "Requirement already satisfied: python-dateutil>=2.1 in /Users/derick/opt/anaconda3/lib/python3.9/site-packages (from jupyter-client<8.0->ipykernel>=4.5.1->ipywidgets<8.0.0,>=7.6.0->bamboolib) (2.8.2)\n",
      "Requirement already satisfied: fastjsonschema in /Users/derick/opt/anaconda3/lib/python3.9/site-packages (from nbformat>=4.2.0->ipywidgets<8.0.0,>=7.6.0->bamboolib) (2.15.1)\n",
      "Requirement already satisfied: jsonschema>=2.6 in /Users/derick/opt/anaconda3/lib/python3.9/site-packages (from nbformat>=4.2.0->ipywidgets<8.0.0,>=7.6.0->bamboolib) (4.4.0)\n",
      "Requirement already satisfied: pyrsistent!=0.17.0,!=0.17.1,!=0.17.2,>=0.14.0 in /Users/derick/opt/anaconda3/lib/python3.9/site-packages (from jsonschema>=2.6->nbformat>=4.2.0->ipywidgets<8.0.0,>=7.6.0->bamboolib) (0.18.0)\n",
      "Requirement already satisfied: prometheus-client in /Users/derick/opt/anaconda3/lib/python3.9/site-packages (from notebook>=4.0.0->ipyslickgrid==0.0.3->bamboolib) (0.13.1)\n",
      "Requirement already satisfied: Send2Trash>=1.8.0 in /Users/derick/opt/anaconda3/lib/python3.9/site-packages (from notebook>=4.0.0->ipyslickgrid==0.0.3->bamboolib) (1.8.0)\n",
      "Requirement already satisfied: jinja2 in /Users/derick/opt/anaconda3/lib/python3.9/site-packages (from notebook>=4.0.0->ipyslickgrid==0.0.3->bamboolib) (2.11.3)\n",
      "Requirement already satisfied: nbconvert in /Users/derick/opt/anaconda3/lib/python3.9/site-packages (from notebook>=4.0.0->ipyslickgrid==0.0.3->bamboolib) (6.4.4)\n",
      "Requirement already satisfied: terminado>=0.8.3 in /Users/derick/opt/anaconda3/lib/python3.9/site-packages (from notebook>=4.0.0->ipyslickgrid==0.0.3->bamboolib) (0.13.1)\n",
      "Requirement already satisfied: argon2-cffi in /Users/derick/opt/anaconda3/lib/python3.9/site-packages (from notebook>=4.0.0->ipyslickgrid==0.0.3->bamboolib) (21.3.0)\n",
      "Requirement already satisfied: pyparsing!=3.0.5,>=2.0.2 in /Users/derick/opt/anaconda3/lib/python3.9/site-packages (from packaging>=19.2->bamboolib) (3.0.4)\n",
      "Requirement already satisfied: pytz>=2020.1 in /Users/derick/opt/anaconda3/lib/python3.9/site-packages (from pandas<2.0.0,>=1.1.0->bamboolib) (2021.3)\n",
      "Requirement already satisfied: numpy>=1.18.5 in /Users/derick/opt/anaconda3/lib/python3.9/site-packages (from pandas<2.0.0,>=1.1.0->bamboolib) (1.21.5)\n",
      "Requirement already satisfied: ptyprocess>=0.5 in /Users/derick/opt/anaconda3/lib/python3.9/site-packages (from pexpect>4.3->ipython>=4.0.0->ipywidgets<8.0.0,>=7.6.0->bamboolib) (0.7.0)\n",
      "Requirement already satisfied: tenacity>=6.2.0 in /Users/derick/opt/anaconda3/lib/python3.9/site-packages (from plotly<6.0.0,>=4.9.0->bamboolib) (8.0.1)\n",
      "Requirement already satisfied: six in /Users/derick/opt/anaconda3/lib/python3.9/site-packages (from plotly<6.0.0,>=4.9.0->bamboolib) (1.16.0)\n",
      "Requirement already satisfied: wcwidth in /Users/derick/opt/anaconda3/lib/python3.9/site-packages (from prompt-toolkit!=3.0.0,!=3.0.1,<3.1.0,>=2.0.0->ipython>=4.0.0->ipywidgets<8.0.0,>=7.6.0->bamboolib) (0.2.5)\n",
      "Requirement already satisfied: scipy>=1.1.0 in /Users/derick/opt/anaconda3/lib/python3.9/site-packages (from scikit-learn<2.0.0,>=0.20.2->bamboolib) (1.7.3)\n",
      "Requirement already satisfied: threadpoolctl>=2.0.0 in /Users/derick/opt/anaconda3/lib/python3.9/site-packages (from scikit-learn<2.0.0,>=0.20.2->bamboolib) (2.2.0)\n",
      "Requirement already satisfied: joblib>=0.11 in /Users/derick/opt/anaconda3/lib/python3.9/site-packages (from scikit-learn<2.0.0,>=0.20.2->bamboolib) (1.1.0)\n",
      "Requirement already satisfied: patsy>=0.5.2 in /Users/derick/opt/anaconda3/lib/python3.9/site-packages (from statsmodels<1.0.0->bamboolib) (0.5.2)\n",
      "Requirement already satisfied: argon2-cffi-bindings in /Users/derick/opt/anaconda3/lib/python3.9/site-packages (from argon2-cffi->notebook>=4.0.0->ipyslickgrid==0.0.3->bamboolib) (21.2.0)\n",
      "Requirement already satisfied: MarkupSafe>=0.23 in /Users/derick/opt/anaconda3/lib/python3.9/site-packages (from jinja2->notebook>=4.0.0->ipyslickgrid==0.0.3->bamboolib) (2.0.1)\n",
      "Requirement already satisfied: mistune<2,>=0.8.1 in /Users/derick/opt/anaconda3/lib/python3.9/site-packages (from nbconvert->notebook>=4.0.0->ipyslickgrid==0.0.3->bamboolib) (0.8.4)\n",
      "Requirement already satisfied: jupyterlab-pygments in /Users/derick/opt/anaconda3/lib/python3.9/site-packages (from nbconvert->notebook>=4.0.0->ipyslickgrid==0.0.3->bamboolib) (0.1.2)\n",
      "Requirement already satisfied: beautifulsoup4 in /Users/derick/opt/anaconda3/lib/python3.9/site-packages (from nbconvert->notebook>=4.0.0->ipyslickgrid==0.0.3->bamboolib) (4.11.1)\n",
      "Requirement already satisfied: bleach in /Users/derick/opt/anaconda3/lib/python3.9/site-packages (from nbconvert->notebook>=4.0.0->ipyslickgrid==0.0.3->bamboolib) (4.1.0)\n",
      "Requirement already satisfied: entrypoints>=0.2.2 in /Users/derick/opt/anaconda3/lib/python3.9/site-packages (from nbconvert->notebook>=4.0.0->ipyslickgrid==0.0.3->bamboolib) (0.4)\n",
      "Requirement already satisfied: pandocfilters>=1.4.1 in /Users/derick/opt/anaconda3/lib/python3.9/site-packages (from nbconvert->notebook>=4.0.0->ipyslickgrid==0.0.3->bamboolib) (1.5.0)\n",
      "Requirement already satisfied: nbclient<0.6.0,>=0.5.0 in /Users/derick/opt/anaconda3/lib/python3.9/site-packages (from nbconvert->notebook>=4.0.0->ipyslickgrid==0.0.3->bamboolib) (0.5.13)\n",
      "Requirement already satisfied: defusedxml in /Users/derick/opt/anaconda3/lib/python3.9/site-packages (from nbconvert->notebook>=4.0.0->ipyslickgrid==0.0.3->bamboolib) (0.7.1)\n",
      "Requirement already satisfied: testpath in /Users/derick/opt/anaconda3/lib/python3.9/site-packages (from nbconvert->notebook>=4.0.0->ipyslickgrid==0.0.3->bamboolib) (0.5.0)\n",
      "Requirement already satisfied: soupsieve>1.2 in /Users/derick/opt/anaconda3/lib/python3.9/site-packages (from beautifulsoup4->nbconvert->notebook>=4.0.0->ipyslickgrid==0.0.3->bamboolib) (2.3.1)\n",
      "Requirement already satisfied: webencodings in /Users/derick/opt/anaconda3/lib/python3.9/site-packages (from bleach->nbconvert->notebook>=4.0.0->ipyslickgrid==0.0.3->bamboolib) (0.5.1)\n",
      "Requirement already satisfied: asttokens in /Users/derick/opt/anaconda3/lib/python3.9/site-packages (from stack-data->ipython>=4.0.0->ipywidgets<8.0.0,>=7.6.0->bamboolib) (2.0.5)\n",
      "Requirement already satisfied: pure-eval in /Users/derick/opt/anaconda3/lib/python3.9/site-packages (from stack-data->ipython>=4.0.0->ipywidgets<8.0.0,>=7.6.0->bamboolib) (0.2.2)\n",
      "Requirement already satisfied: executing in /Users/derick/opt/anaconda3/lib/python3.9/site-packages (from stack-data->ipython>=4.0.0->ipywidgets<8.0.0,>=7.6.0->bamboolib) (0.8.3)\n"
     ]
    }
   ],
   "source": [
    "!pip install --upgrade bamboolib --user"
   ]
  }
 ],
 "metadata": {
  "kernelspec": {
   "display_name": "bamboolib_venv",
   "language": "python",
   "name": "bamboolib_venv"
  },
  "language_info": {
   "codemirror_mode": {
    "name": "ipython",
    "version": 3
   },
   "file_extension": ".py",
   "mimetype": "text/x-python",
   "name": "python",
   "nbconvert_exporter": "python",
   "pygments_lexer": "ipython3",
   "version": "3.9.12"
  }
 },
 "nbformat": 4,
 "nbformat_minor": 4
}
